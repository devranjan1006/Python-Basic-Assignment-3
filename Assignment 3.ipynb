{
 "cells": [
  {
   "cell_type": "markdown",
   "metadata": {},
   "source": [
    "# Assignment 3"
   ]
  },
  {
   "cell_type": "markdown",
   "metadata": {},
   "source": [
    "1. Why are functions advantageous to have in your programs?"
   ]
  },
  {
   "cell_type": "markdown",
   "metadata": {},
   "source": [
    "Functions have a great advantage while programming because of their reusability and organised format. Functions are specific peice of code which perform certain task when called. So if we need to perform the same task with different data we dont need to write the same code for different sets of data.\n",
    "\n",
    "for example:\n",
    "\n",
    "def sqr(a):\n",
    "    \n",
    "    return(a**2)\n",
    "\n",
    "sq = [ ]\n",
    "\n",
    "for i in range(10):\n",
    "\n",
    "    a = int(input('Enter the number: ')\n",
    "    \n",
    "    sq = sqr(a)\n",
    "    \n",
    " \n",
    "In this code we can see that we need to perform the same function repeated times. After writing the function and calling it n number of times makes our task easy.\n",
    "In short, Functions keeps the program organized, easy to understand and makes it reusable."
   ]
  },
  {
   "cell_type": "markdown",
   "metadata": {},
   "source": [
    "2. When does the code in a function run: when it's specified or when it's called?"
   ]
  },
  {
   "cell_type": "markdown",
   "metadata": {},
   "source": [
    "The code in the function runs when it is called and not when it is specified. Function comprises of two section firstly when it is specified and secondly when it is called.\n",
    "\n",
    "for eg>\n",
    "\n",
    "1) Function defination:\n",
    "\n",
    "def function_name(args):\n",
    "\n",
    "    code\n",
    "    \n",
    "2) Function call:\n",
    "\n",
    "function_name(args)\n",
    "\n",
    "\n",
    "In this the first part relates to the defination when the code doesnt run because of which the compiler wont throw any error while executing that block of code rather than it just saves the code inthe memory. While we execute the second part the compiler will go to the function defination and run each and every line of code in the function defination. It will also throw an error if it finds some in that piece of code."
   ]
  },
  {
   "cell_type": "markdown",
   "metadata": {},
   "source": [
    "3. What statement creates a function?"
   ]
  },
  {
   "cell_type": "markdown",
   "metadata": {},
   "source": [
    "The def keyword creates a function.\n",
    "\n",
    "def function_name(args):\n",
    "\n",
    "    code\n",
    "\n",
    "for eg:\n",
    "\n",
    "def return_succ(a):\n",
    "    \n",
    "    return a+1\n",
    "    \n",
    "The above code creates a function which returns the sucessor of the passed number."
   ]
  },
  {
   "cell_type": "markdown",
   "metadata": {},
   "source": [
    "4. What is the difference between a function and a function call?"
   ]
  },
  {
   "cell_type": "markdown",
   "metadata": {},
   "source": [
    "There is a huge difference between function and function call. The compiler runs the code when it is called rather than when it is defined.\n",
    "\n",
    "for eg:\n",
    "\n",
    "\n",
    "def function_name(args):       #defining the function\n",
    "\n",
    "    code\n",
    "\n",
    "function_name(args)            #calling the function\n",
    "\n",
    "In this the first part relates to the defination when the code doesnt run because of which the compiler wont throw any error while executing that block of code rather than it just saves the code inthe memory. While we execute the second part the compiler will go to the function defination and run each and every line of code in the function defination. It will also throw an error if it finds some in that piece of code."
   ]
  },
  {
   "cell_type": "markdown",
   "metadata": {},
   "source": [
    "5. How many global scopes are there in a Python program? How many local scopes?"
   ]
  },
  {
   "cell_type": "markdown",
   "metadata": {},
   "source": [
    "There is only one global scope for the whole python program and it stays into existence until the program terminates. The variable defined in the global scope can be used anywhere in the program. There can be one or more than one local scopes depending upon the program written and it exists only within the scope where it is defined. Local scope comes into picture when a function is defined and the scope ends as soon as the the function executes and function call returns.\n",
    "\n",
    "for eg:\n",
    "\n",
    "def function_1():\n",
    "\n",
    "    x = 2 + 3\n",
    "    \n",
    "def function_2():\n",
    "\n",
    "    y = 3 + 3\n",
    "    \n",
    "\n",
    "z = 4 + 3\n",
    "\n",
    "In the above example there are 2 local scopes and one global scope\n"
   ]
  },
  {
   "cell_type": "markdown",
   "metadata": {},
   "source": [
    "6. What happens to variables in a local scope when the function call returns?"
   ]
  },
  {
   "cell_type": "markdown",
   "metadata": {},
   "source": [
    "The variables in the local scope are destroyed after the function call returns. All the memory allocations for the variables are destroyed and they cant be accessed henceforth.\n",
    "\n",
    "for eg: \n",
    "\n",
    "def function():\n",
    "\n",
    "    y = 3 + 3\n",
    "    \n",
    "    return y\n",
    "   \n",
    "    \n",
    "\n",
    "z = function()\n",
    "\n",
    "print(y)\n",
    "\n",
    "print(z)\n",
    "\n",
    "In the above example there is one local variable y. The local variable only exists within the scope of the function. If it is called outside the function as in the above example it will show an error as shown below."
   ]
  },
  {
   "cell_type": "code",
   "execution_count": 8,
   "metadata": {},
   "outputs": [
    {
     "name": "stdout",
     "output_type": "stream",
     "text": [
      "The value of z is 6\n"
     ]
    },
    {
     "ename": "NameError",
     "evalue": "name 'y' is not defined",
     "output_type": "error",
     "traceback": [
      "\u001b[1;31m---------------------------------------------------------------------------\u001b[0m",
      "\u001b[1;31mNameError\u001b[0m                                 Traceback (most recent call last)",
      "\u001b[1;32m<ipython-input-8-701f8321abec>\u001b[0m in \u001b[0;36m<module>\u001b[1;34m\u001b[0m\n\u001b[0;32m     11\u001b[0m \u001b[0mprint\u001b[0m\u001b[1;33m(\u001b[0m\u001b[1;34m'The value of z is {}'\u001b[0m\u001b[1;33m.\u001b[0m\u001b[0mformat\u001b[0m\u001b[1;33m(\u001b[0m\u001b[0mz\u001b[0m\u001b[1;33m)\u001b[0m\u001b[1;33m)\u001b[0m\u001b[1;33m\u001b[0m\u001b[1;33m\u001b[0m\u001b[0m\n\u001b[0;32m     12\u001b[0m \u001b[1;33m\u001b[0m\u001b[0m\n\u001b[1;32m---> 13\u001b[1;33m \u001b[0mprint\u001b[0m\u001b[1;33m(\u001b[0m\u001b[1;34m'The value of y is {}'\u001b[0m\u001b[1;33m.\u001b[0m\u001b[0mformat\u001b[0m\u001b[1;33m(\u001b[0m\u001b[0my\u001b[0m\u001b[1;33m)\u001b[0m\u001b[1;33m)\u001b[0m\u001b[1;33m\u001b[0m\u001b[1;33m\u001b[0m\u001b[0m\n\u001b[0m",
      "\u001b[1;31mNameError\u001b[0m: name 'y' is not defined"
     ]
    }
   ],
   "source": [
    "def function():\n",
    "\n",
    "    y = 3 + 3\n",
    "    \n",
    "    return y\n",
    "   \n",
    "    \n",
    "\n",
    "z = function()\n",
    "\n",
    "print('The value of z is {}'.format(z))\n",
    "\n",
    "print('The value of y is {}'.format(y))"
   ]
  },
  {
   "cell_type": "markdown",
   "metadata": {},
   "source": [
    "7. What is the concept of a return value? Is it possible to have a return value in an expression?"
   ]
  },
  {
   "cell_type": "markdown",
   "metadata": {},
   "source": [
    "A return statement is used to terminate a function defination such that any statement after the return function in the function defination wont execute. The return statement will return some particular value depending upon the return function and bring the control back to the function call. If nothing is speciied after the return statement a special value 'none' is returned. We can surely return a value or an expression.\n",
    "\n",
    "for eg:\n",
    "\n",
    "def function(a,b):\n",
    "\n",
    "       return  a + b\n",
    "       \n",
    "a = 9\n",
    "\n",
    "b = 8\n",
    "\n",
    "z = function(a,b)\n",
    "\n",
    "In the above example the return statement is returning an expression value which gets stored in variable z through function call."
   ]
  },
  {
   "cell_type": "markdown",
   "metadata": {},
   "source": [
    "8. If a function does not have a return statement, what is the return value of a call to that function?"
   ]
  },
  {
   "cell_type": "markdown",
   "metadata": {},
   "source": [
    "If a return statement is not specified a special value 'none' is returned.\n",
    "\n",
    "for eg:\n",
    "\n",
    "def function(a,b):\n",
    "\n",
    "        x = a+b\n",
    "       \n",
    "a = 9\n",
    "\n",
    "b = 8\n",
    "\n",
    "   \n",
    "z = function(a,b)\n",
    "\n",
    "type(z)\n",
    "\n",
    "In the above example the return statement is absent so it returns a special data type 'none' as shown below.\n",
    "\n"
   ]
  },
  {
   "cell_type": "code",
   "execution_count": 1,
   "metadata": {},
   "outputs": [
    {
     "data": {
      "text/plain": [
       "NoneType"
      ]
     },
     "execution_count": 1,
     "metadata": {},
     "output_type": "execute_result"
    }
   ],
   "source": [
    "def function(a,b):\n",
    "    x = a+b\n",
    "       \n",
    "a = 9\n",
    "\n",
    "b = 8\n",
    "\n",
    "   \n",
    "z = function(a,b)\n",
    "\n",
    "type(z)"
   ]
  },
  {
   "cell_type": "markdown",
   "metadata": {},
   "source": [
    "9.How do you make a function variable refer to the global variable?"
   ]
  },
  {
   "cell_type": "markdown",
   "metadata": {},
   "source": [
    "We can make a local variable global by simply using the keyword 'global' before the variable.\n",
    "\n",
    "for eg:\n",
    " \n",
    "def my_glob():\n",
    "\n",
    "      global x\n",
    "  \n",
    "      x = \"Devranjan\"\n",
    "\n",
    "my_glob()\n",
    "\n",
    "print(\"My name is \" + x)\n",
    "\n",
    "In the above example we are declaring x as global variable inside the function which allows us to use x even outside the scope of the function.\n"
   ]
  },
  {
   "cell_type": "markdown",
   "metadata": {},
   "source": [
    "10. What is the data type of None?"
   ]
  },
  {
   "cell_type": "markdown",
   "metadata": {},
   "source": [
    "The data type None corresponds to Null value or no value."
   ]
  },
  {
   "cell_type": "markdown",
   "metadata": {},
   "source": [
    "11. What does the sentence import areallyourpetsnamederic do?"
   ]
  },
  {
   "cell_type": "markdown",
   "metadata": {},
   "source": [
    "Technically this sentence should import a library named areallyourpetsnamederic."
   ]
  },
  {
   "cell_type": "markdown",
   "metadata": {},
   "source": [
    "12. If you had a bacon() feature in a spam module, what would you call it after importing spam?"
   ]
  },
  {
   "cell_type": "markdown",
   "metadata": {},
   "source": [
    "#importing the the module spam\n",
    "\n",
    "Import spam as sp\n",
    "\n",
    "#calling the function\n",
    "\n",
    "sp.bacon()"
   ]
  },
  {
   "cell_type": "markdown",
   "metadata": {},
   "source": [
    "13. What can you do to save a programme from crashing if it encounters an error?"
   ]
  },
  {
   "cell_type": "markdown",
   "metadata": {},
   "source": [
    "To save a program from crashing we can use the concept of exception handling. This can handle all the the run time error but not compile type error.\n",
    "\n",
    "for eg:\n",
    "\n",
    "try:\n",
    "\n",
    "    a = m + n\n",
    "    \n",
    "    print(a)\n",
    "    \n",
    "    return a\n",
    "    \n",
    "except:\n",
    "\n",
    "    print('there is an error in the code')\n",
    "    \n",
    "    \n",
    "In the above example we have not mentioned the values of m and n but still the code block will run as shown below."
   ]
  },
  {
   "cell_type": "code",
   "execution_count": 17,
   "metadata": {},
   "outputs": [
    {
     "name": "stdout",
     "output_type": "stream",
     "text": [
      "there is an error in the code\n"
     ]
    }
   ],
   "source": [
    "try:\n",
    "    \n",
    "    a = m + n\n",
    "    print(a)\n",
    "    \n",
    "except:\n",
    "\n",
    "    print('there is an error in the code')"
   ]
  },
  {
   "cell_type": "markdown",
   "metadata": {},
   "source": [
    "14. What is the purpose of the try clause? What is the purpose of the except clause?"
   ]
  },
  {
   "cell_type": "markdown",
   "metadata": {},
   "source": [
    "The function of the try clause is to check for any errors in the code i.e the code inside the try block will run without any error even if there is any runtime error whereas the succeeding except block will contain the instruction to follow if the code in the try block has some error. \n",
    "\n",
    "for eg:\n",
    "\n",
    "try:\n",
    "    \n",
    "    code with an error\n",
    "    \n",
    "except:\n",
    "\n",
    "    tell what to do in case of error"
   ]
  }
 ],
 "metadata": {
  "kernelspec": {
   "display_name": "Python 3",
   "language": "python",
   "name": "python3"
  },
  "language_info": {
   "codemirror_mode": {
    "name": "ipython",
    "version": 3
   },
   "file_extension": ".py",
   "mimetype": "text/x-python",
   "name": "python",
   "nbconvert_exporter": "python",
   "pygments_lexer": "ipython3",
   "version": "3.8.5"
  }
 },
 "nbformat": 4,
 "nbformat_minor": 4
}
